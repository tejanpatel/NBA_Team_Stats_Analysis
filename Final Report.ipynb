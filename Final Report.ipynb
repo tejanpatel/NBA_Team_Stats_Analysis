{
 "cells": [
  {
   "cell_type": "markdown",
   "id": "7d759729",
   "metadata": {},
   "source": [
    "### Tejan Patel"
   ]
  },
  {
   "cell_type": "markdown",
   "id": "f285a950",
   "metadata": {},
   "source": [
    "# Analysis of Winning in the NBA"
   ]
  },
  {
   "cell_type": "markdown",
   "id": "43ea4ac4",
   "metadata": {},
   "source": [
    "## Research Questions"
   ]
  },
  {
   "cell_type": "markdown",
   "id": "06c181ff",
   "metadata": {},
   "source": [
    "1. Which 4 statistics in an NBA game have the greatest impact on winning? Hundreds of statistics are kept for every game, such as points, rebounds, assists, blocks, etc. but I want to find which of the basic stats are the most important when predicting a winner. \n",
    "\n",
    "The four statistics I found were field goals made, field goal percentage, field goals attempted, and defensive rebounds.\n",
    "\n",
    "2. Do advanced statistics such as true shooting and effective position ratio better indicate winners than basic statistics such as points, rebounds, and assists? The presence of advanced stats in the NBA is consistently increasing and being used in decision-making. I want to see if this is justified.\n",
    "\n",
    "Advanced stats in particular, true shooting percentage, effective field goal percentage, assist to turnover ratio and effective possession ratio, do not better indicate winners than basic statistics.\n",
    "\n",
    "3. Although physical attributes don’t vary much for each team, can average age, weight or height impact winning? Which one is most important?\n",
    "\n",
    "Relative to other statistics, the age, weight, and height of a team don’t have much of an influence on winning. However, out of the three, age was the most important factor.\n"
   ]
  },
  {
   "cell_type": "markdown",
   "id": "1362a1ad",
   "metadata": {},
   "source": [
    "## Motivation"
   ]
  },
  {
   "cell_type": "markdown",
   "id": "9c958f3d",
   "metadata": {},
   "source": [
    "From a young age, I was always obsessed with basketball. Playing and watching basketball was my favorite pastime and I fell in love with the game. Of course, winning is the objective and each coach I have ever had has given me different keys to winning a game. This goes to show how there isn’t a specific recipe to win. However, there is always an opportunity for competitive advantages. Understanding the game using high-level statistics may be able to give new insights into a strategy to maximize a team’s chances of winning. If we obtain verifiable answers to these research questions, coaching could be revolutionized.\n"
   ]
  },
  {
   "cell_type": "markdown",
   "id": "3444c7fa",
   "metadata": {},
   "source": [
    "## Data Setting"
   ]
  },
  {
   "cell_type": "markdown",
   "id": "075a2eb0",
   "metadata": {},
   "source": [
    "URL: https://www.basketball-reference.com/\n",
    "\n",
    "This site contains information for every basketball season from the start of the NBA to present times. The site contains data for every season each team has played. Each team has a full table containing wins and other stats from each season in the NBA. Since there is not just one site that has put every team’s data, I will have to individually scrape for each team and merge the data to form my data set. Given that each team has been around for around 60 years and there are 30 teams, I should be able to get a decent sample. However, older seasons may not have all statistics calculated.\n"
   ]
  },
  {
   "cell_type": "markdown",
   "id": "b558c7f4",
   "metadata": {},
   "source": [
    "## Method"
   ]
  },
  {
   "cell_type": "markdown",
   "id": "492b068a",
   "metadata": {},
   "source": [
    "1. Utilize webscraping techniques in particular Beautiful Soup to create an accessible data set accomplishing challenge goal 1 \n",
    "2. Clean data to create consistency depending on the length of the season by making total stats averages per game\n",
    "3. Use RFE, SFS, and Correlation to find three combinations of the four most important stats\n",
    "4. Develop a model for each combination of stats\n",
    "5. Use Cross Validation score to determine which one is best (Research Question 1) (challenge goal 2)\n",
    "6. Develop a model to assess how basic stats can predict a winner based on cross-validation from step 5\n",
    "7. Develop a very similar model as step 6 but only analyze advanced stats\n",
    "8. Compare the models in step 6 and 7 using iterations of train test and cross val score (Research Question 2) (challenge goal 2)\n",
    "9. Develop a model using basic stats including height age and weight\n",
    "10. Compare the model in steps 3 and 6 and assess the impact of including age weight and height (Research Question 3)\n",
    "11. Develop a model for only physical stats and see which is weighted the heaviest\n",
    "12. Draw conclusions to develop a strategy for winning\n"
   ]
  },
  {
   "cell_type": "markdown",
   "id": "62c64a1a",
   "metadata": {},
   "source": [
    "## Webscraping and Data Formatting"
   ]
  },
  {
   "cell_type": "code",
   "execution_count": 2,
   "id": "a36aa2e8",
   "metadata": {},
   "outputs": [],
   "source": [
    "from bs4 import BeautifulSoup\n",
    "import requests\n",
    "import os\n",
    "import pandas as pd\n",
    "import numpy as np"
   ]
  },
  {
   "cell_type": "code",
   "execution_count": 2,
   "id": "21187539",
   "metadata": {},
   "outputs": [],
   "source": [
    "nba_teams = [\n",
    "    'ATL', 'BOS', 'BRK', 'CHA', 'CHI', 'CLE', 'DAL', 'DEN', 'DET', 'GSW', \n",
    "    'HOU', 'IND', 'LAC', 'LAL', 'MEM', 'MIA', 'MIL', 'MIN', 'NOP', 'NYK', \n",
    "    'OKC', 'ORL', 'PHI', 'PHO', 'POR', 'SAC', 'SAS', 'TOR', 'UTA', 'WAS'\n",
    "]\n",
    "dfs=[]"
   ]
  },
  {
   "cell_type": "code",
   "execution_count": 3,
   "id": "979f2b51",
   "metadata": {},
   "outputs": [],
   "source": [
    "base_url='https://www.basketball-reference.com/teams/{nba_team}/stats_basic_totals.html'\n",
    "for nba_team in nba_teams:\n",
    "    url = base_url.format(nba_team=nba_team)\n",
    "    page=requests.get(url)\n",
    "    soup=BeautifulSoup(page.text,'html.parser')\n",
    "    tables=soup.find_all('table')\n",
    "    if (len(tables)>0):\n",
    "        table=tables[0]\n",
    "        dfs.append(pd.read_html(str(table))[0])"
   ]
  },
  {
   "cell_type": "code",
   "execution_count": 4,
   "id": "a52be9f1",
   "metadata": {},
   "outputs": [],
   "source": [
    "result_df = pd.concat(dfs, ignore_index=True)\n",
    "result_df=result_df[result_df['Season']!='Season']\n",
    "result_df=result_df.drop(['Unnamed: 6','Unnamed: 10'], axis=1)\n",
    "\n",
    "##Save to CSV: I used so I didn't have to webscrape every time\n",
    "#result_df.to_csv('team_stats.csv',index=False)"
   ]
  },
  {
   "cell_type": "code",
   "execution_count": 3,
   "id": "ab27bad1",
   "metadata": {},
   "outputs": [],
   "source": [
    "team_data=pd.read_csv('team_stats.csv')"
   ]
  },
  {
   "cell_type": "code",
   "execution_count": 4,
   "id": "90d78a81",
   "metadata": {},
   "outputs": [
    {
     "data": {
      "text/html": [
       "<div>\n",
       "<style scoped>\n",
       "    .dataframe tbody tr th:only-of-type {\n",
       "        vertical-align: middle;\n",
       "    }\n",
       "\n",
       "    .dataframe tbody tr th {\n",
       "        vertical-align: top;\n",
       "    }\n",
       "\n",
       "    .dataframe thead th {\n",
       "        text-align: right;\n",
       "    }\n",
       "</style>\n",
       "<table border=\"1\" class=\"dataframe\">\n",
       "  <thead>\n",
       "    <tr style=\"text-align: right;\">\n",
       "      <th></th>\n",
       "      <th>Season</th>\n",
       "      <th>Lg</th>\n",
       "      <th>Tm</th>\n",
       "      <th>W</th>\n",
       "      <th>L</th>\n",
       "      <th>Finish</th>\n",
       "      <th>Age</th>\n",
       "      <th>Ht.</th>\n",
       "      <th>Wt.</th>\n",
       "      <th>G</th>\n",
       "      <th>...</th>\n",
       "      <th>FT%</th>\n",
       "      <th>ORB</th>\n",
       "      <th>DRB</th>\n",
       "      <th>TRB</th>\n",
       "      <th>AST</th>\n",
       "      <th>STL</th>\n",
       "      <th>BLK</th>\n",
       "      <th>TOV</th>\n",
       "      <th>PF</th>\n",
       "      <th>PTS</th>\n",
       "    </tr>\n",
       "  </thead>\n",
       "  <tbody>\n",
       "    <tr>\n",
       "      <th>0</th>\n",
       "      <td>2023-24</td>\n",
       "      <td>NBA</td>\n",
       "      <td>ATL</td>\n",
       "      <td>26</td>\n",
       "      <td>34</td>\n",
       "      <td>3</td>\n",
       "      <td>26.1</td>\n",
       "      <td>6-6</td>\n",
       "      <td>210.0</td>\n",
       "      <td>60</td>\n",
       "      <td>...</td>\n",
       "      <td>0.810</td>\n",
       "      <td>780.0</td>\n",
       "      <td>1924.0</td>\n",
       "      <td>2704.0</td>\n",
       "      <td>1568</td>\n",
       "      <td>446.0</td>\n",
       "      <td>274.0</td>\n",
       "      <td>801.0</td>\n",
       "      <td>1113</td>\n",
       "      <td>7226</td>\n",
       "    </tr>\n",
       "    <tr>\n",
       "      <th>1</th>\n",
       "      <td>2022-23</td>\n",
       "      <td>NBA</td>\n",
       "      <td>ATL</td>\n",
       "      <td>41</td>\n",
       "      <td>41</td>\n",
       "      <td>2</td>\n",
       "      <td>24.9</td>\n",
       "      <td>6-6</td>\n",
       "      <td>210.0</td>\n",
       "      <td>82</td>\n",
       "      <td>...</td>\n",
       "      <td>0.818</td>\n",
       "      <td>920.0</td>\n",
       "      <td>2719.0</td>\n",
       "      <td>3639.0</td>\n",
       "      <td>2049</td>\n",
       "      <td>580.0</td>\n",
       "      <td>401.0</td>\n",
       "      <td>1060.0</td>\n",
       "      <td>1541</td>\n",
       "      <td>9711</td>\n",
       "    </tr>\n",
       "    <tr>\n",
       "      <th>2</th>\n",
       "      <td>2021-22</td>\n",
       "      <td>NBA</td>\n",
       "      <td>ATL</td>\n",
       "      <td>43</td>\n",
       "      <td>39</td>\n",
       "      <td>2</td>\n",
       "      <td>26.1</td>\n",
       "      <td>6-6</td>\n",
       "      <td>211.0</td>\n",
       "      <td>82</td>\n",
       "      <td>...</td>\n",
       "      <td>0.812</td>\n",
       "      <td>823.0</td>\n",
       "      <td>2783.0</td>\n",
       "      <td>3606.0</td>\n",
       "      <td>2017</td>\n",
       "      <td>587.0</td>\n",
       "      <td>348.0</td>\n",
       "      <td>972.0</td>\n",
       "      <td>1534</td>\n",
       "      <td>9343</td>\n",
       "    </tr>\n",
       "    <tr>\n",
       "      <th>3</th>\n",
       "      <td>2020-21</td>\n",
       "      <td>NBA</td>\n",
       "      <td>ATL</td>\n",
       "      <td>41</td>\n",
       "      <td>31</td>\n",
       "      <td>1</td>\n",
       "      <td>25.4</td>\n",
       "      <td>6-6</td>\n",
       "      <td>214.0</td>\n",
       "      <td>72</td>\n",
       "      <td>...</td>\n",
       "      <td>0.812</td>\n",
       "      <td>760.0</td>\n",
       "      <td>2525.0</td>\n",
       "      <td>3285.0</td>\n",
       "      <td>1737</td>\n",
       "      <td>503.0</td>\n",
       "      <td>342.0</td>\n",
       "      <td>953.0</td>\n",
       "      <td>1392</td>\n",
       "      <td>8186</td>\n",
       "    </tr>\n",
       "    <tr>\n",
       "      <th>4</th>\n",
       "      <td>2019-20</td>\n",
       "      <td>NBA</td>\n",
       "      <td>ATL</td>\n",
       "      <td>20</td>\n",
       "      <td>47</td>\n",
       "      <td>5</td>\n",
       "      <td>24.1</td>\n",
       "      <td>6-6</td>\n",
       "      <td>216.0</td>\n",
       "      <td>67</td>\n",
       "      <td>...</td>\n",
       "      <td>0.790</td>\n",
       "      <td>661.0</td>\n",
       "      <td>2237.0</td>\n",
       "      <td>2898.0</td>\n",
       "      <td>1605</td>\n",
       "      <td>523.0</td>\n",
       "      <td>341.0</td>\n",
       "      <td>1086.0</td>\n",
       "      <td>1548</td>\n",
       "      <td>7488</td>\n",
       "    </tr>\n",
       "  </tbody>\n",
       "</table>\n",
       "<p>5 rows × 32 columns</p>\n",
       "</div>"
      ],
      "text/plain": [
       "    Season   Lg   Tm   W   L  Finish   Age  Ht.    Wt.   G  ...    FT%    ORB  \\\n",
       "0  2023-24  NBA  ATL  26  34       3  26.1  6-6  210.0  60  ...  0.810  780.0   \n",
       "1  2022-23  NBA  ATL  41  41       2  24.9  6-6  210.0  82  ...  0.818  920.0   \n",
       "2  2021-22  NBA  ATL  43  39       2  26.1  6-6  211.0  82  ...  0.812  823.0   \n",
       "3  2020-21  NBA  ATL  41  31       1  25.4  6-6  214.0  72  ...  0.812  760.0   \n",
       "4  2019-20  NBA  ATL  20  47       5  24.1  6-6  216.0  67  ...  0.790  661.0   \n",
       "\n",
       "      DRB     TRB   AST    STL    BLK     TOV    PF   PTS  \n",
       "0  1924.0  2704.0  1568  446.0  274.0   801.0  1113  7226  \n",
       "1  2719.0  3639.0  2049  580.0  401.0  1060.0  1541  9711  \n",
       "2  2783.0  3606.0  2017  587.0  348.0   972.0  1534  9343  \n",
       "3  2525.0  3285.0  1737  503.0  342.0   953.0  1392  8186  \n",
       "4  2237.0  2898.0  1605  523.0  341.0  1086.0  1548  7488  \n",
       "\n",
       "[5 rows x 32 columns]"
      ]
     },
     "execution_count": 4,
     "metadata": {},
     "output_type": "execute_result"
    }
   ],
   "source": [
    "team_data.head()"
   ]
  },
  {
   "cell_type": "markdown",
   "id": "26034b21",
   "metadata": {},
   "source": [
    "## Adjust Data"
   ]
  },
  {
   "cell_type": "code",
   "execution_count": 5,
   "id": "fc9c35e3",
   "metadata": {},
   "outputs": [],
   "source": [
    "team_data['W%']=team_data['W']/(team_data['W']+team_data['L'])\n",
    "team_data['TS%']=team_data['PTS']/(2*(team_data['FGA']+0.44*team_data['FTA']))\n",
    "team_data['Effective Possesion']=(team_data['PTS']+0.4*team_data['FT'])/(team_data['FGA']+.4*team_data['FTA']-team_data['TOV'])\n",
    "team_data['EFG%']=(team_data['FG']+.5*team_data['3P'])/team_data['FGA']\n",
    "team_data['ASTOV']=team_data['AST']/team_data['TOV']\n",
    "columns_to_adjust=['FG', 'FGA', '3P', '3PA', '2P', '2PA', 'FT',\n",
    "       'FTA', 'ORB', 'DRB', 'TRB', 'AST', 'STL', 'BLK', 'TOV', 'PF',\n",
    "       'PTS']\n",
    "for column in columns_to_adjust:\n",
    "    team_data[column]=team_data[column]/team_data['G']\n",
    "team_data=team_data.dropna()"
   ]
  },
  {
   "cell_type": "markdown",
   "id": "3accc03d",
   "metadata": {},
   "source": [
    "## Results"
   ]
  },
  {
   "cell_type": "markdown",
   "id": "18e74d72",
   "metadata": {},
   "source": [
    "### Question 1"
   ]
  },
  {
   "cell_type": "markdown",
   "id": "c529a9f9",
   "metadata": {},
   "source": [
    "From my research, I have concluded that the most important stats that impact winning are field goals made, field goals attempted, field goal percentage, and defensive rebounds. Using the data, I utilized recursive feature elimination on a Ridge model to find the four most important features within the data. The Ridge model is essentially a regularized linear regression model and produced the result of 3-pointers made, 3-pointers attempted, 3 point percentage, and steals as the most important stats. Next, I found the four statistics with the highest correlation to winning percentage which are field goal percentage, 2-point field goal percentage, defensive rebounds, and assists. Then, I used sequential feature selection to find another subset of statistics which were field goals made, field goal percentage, field goals attempted, and defensive rebounds. By training three different models on these specific statistics and calculating the mean cross-validation score, I concluded that the model including field goals made, field goal percentage, field goals attempted, and defensive rebounds was the most accurate and hence those are the four most important statistics \n",
    "\n",
    "From this result, to gauge a team's winning percentage for a season, it is most important to look at field goal statistics and defensive rebounds. This was somewhat expected as the number of scoring opportunities directly impacts how many points a team can score. Field goals made and attempted are both direct indicators of scoring opportunities while field goal percentage is the best indicator of efficiency in those opportunities. In addition, defensive rebounds correlate to a bad field goal percentage for the opponent. This all suggests that increasing scoring opportunities is the best way to put a team in a place to win. In practice, this can be seen in greater emphasis on offensive rebounding and limiting turnovers. By doing this, teams can increase opportunities enhancing their win percentage.\n"
   ]
  },
  {
   "cell_type": "code",
   "execution_count": 6,
   "id": "1511b7df",
   "metadata": {},
   "outputs": [],
   "source": [
    "from sklearn.linear_model import LinearRegression\n",
    "from sklearn.metrics import mean_squared_error\n",
    "from sklearn.feature_selection import RFE\n",
    "from sklearn.model_selection import train_test_split\n",
    "from sklearn.linear_model import Ridge\n",
    "import seaborn as sns\n",
    "import matplotlib.pyplot as plt\n",
    "from mlxtend.feature_selection import SequentialFeatureSelector as SFS\n",
    "from sklearn.model_selection import cross_val_score\n",
    "from sklearn.model_selection import LeaveOneOut"
   ]
  },
  {
   "cell_type": "markdown",
   "id": "469bd0b6",
   "metadata": {},
   "source": [
    "Selection by RFE"
   ]
  },
  {
   "cell_type": "code",
   "execution_count": 7,
   "id": "82e75da0",
   "metadata": {},
   "outputs": [
    {
     "name": "stdout",
     "output_type": "stream",
     "text": [
      "Fitting estimator with 21 features.\n",
      "Fitting estimator with 20 features.\n",
      "Fitting estimator with 19 features.\n",
      "Fitting estimator with 18 features.\n",
      "Fitting estimator with 17 features.\n",
      "Fitting estimator with 16 features.\n",
      "Fitting estimator with 15 features.\n",
      "Fitting estimator with 14 features.\n",
      "Fitting estimator with 13 features.\n",
      "Fitting estimator with 12 features.\n",
      "Fitting estimator with 11 features.\n",
      "Fitting estimator with 10 features.\n",
      "Fitting estimator with 9 features.\n",
      "Fitting estimator with 8 features.\n",
      "Fitting estimator with 7 features.\n",
      "Fitting estimator with 6 features.\n",
      "Fitting estimator with 5 features.\n",
      "Features: ['3P', '3PA', '3P%', 'STL']\n"
     ]
    }
   ],
   "source": [
    "X=team_data.drop(['Season','Lg','Tm','W','L','Finish','Age','Ht.','Wt.' ,'G','MP','W%', 'TS%','EFG%','Effective Possesion', 'ASTOV'], axis=1)\n",
    "y=team_data['W%']\n",
    "rfe = RFE(Ridge(), step=1, n_features_to_select=0.2, verbose=1)\n",
    "rfe.fit(X, y)\n",
    "rfe_features = X.columns[[r == 1 for r in rfe.ranking_]]\n",
    "print(\"Features:\", list(rfe_features))\n",
    "reg = rfe.estimator_"
   ]
  },
  {
   "cell_type": "markdown",
   "id": "c846fe11",
   "metadata": {},
   "source": [
    "Selection by correlation"
   ]
  },
  {
   "cell_type": "code",
   "execution_count": 8,
   "id": "afcaf129",
   "metadata": {},
   "outputs": [
    {
     "data": {
      "image/png": "[encoded data removed]",
      "text/plain": [
       "<Figure size 640x480 with 2 Axes>"
      ]
     },
     "metadata": {},
     "output_type": "display_data"
    }
   ],
   "source": [
    "team_info=team_data.drop(['Season','Lg','Tm','W','L','Finish','Age','Ht.','Wt.' ,'G','MP', 'TS%','EFG%','Effective Possesion', 'ASTOV'], axis=1)\n",
    "sns.heatmap(abs(team_info.corr()))\n",
    "plt.title(\"Correlation of Stats\")\n",
    "plt.show()"
   ]
  },
  {
   "cell_type": "code",
   "execution_count": 9,
   "id": "295ec646",
   "metadata": {},
   "outputs": [
    {
     "name": "stdout",
     "output_type": "stream",
     "text": [
      "Features:  ['FG%', '2P%', 'DRB', 'AST']\n"
     ]
    }
   ],
   "source": [
    "features=abs(team_info.corr()[\"W%\"][abs(team_info.corr()[\"W%\"])>0.29].drop('W%')).index.tolist()\n",
    "print(\"Features: \",features)"
   ]
  },
  {
   "cell_type": "markdown",
   "id": "0195177d",
   "metadata": {},
   "source": [
    "Selection by SFS"
   ]
  },
  {
   "cell_type": "code",
   "execution_count": 10,
   "id": "2de63b62",
   "metadata": {},
   "outputs": [
    {
     "name": "stdout",
     "output_type": "stream",
     "text": [
      "Features:  ['FG', 'FGA', 'FG%', 'DRB']\n"
     ]
    }
   ],
   "source": [
    "X=team_data.drop(['Season','Lg','Tm','W','L','Finish','Age','Ht.','Wt.' ,'G','MP','W%', 'TS%','EFG%','Effective Possesion', 'ASTOV'], axis=1)\n",
    "y=team_data['W%']\n",
    "reg = Ridge()\n",
    "sfs = SFS(reg, k_features=4, forward=True, scoring='neg_mean_squared_error', cv=5)\n",
    "sfs.fit(X, y)\n",
    "features_index = sfs.k_feature_idx_\n",
    "features=[]\n",
    "for i in features_index:\n",
    "    features.append(X.columns[i])\n",
    "print(\"Features: \",features)"
   ]
  },
  {
   "cell_type": "markdown",
   "id": "bc809aae",
   "metadata": {},
   "source": [
    "##### Which selction of statistics is best? (Selecting by Cross Validation Score)"
   ]
  },
  {
   "cell_type": "markdown",
   "id": "309a2fee",
   "metadata": {},
   "source": [
    "1st Option"
   ]
  },
  {
   "cell_type": "code",
   "execution_count": 13,
   "id": "88c90ee2",
   "metadata": {},
   "outputs": [
    {
     "name": "stdout",
     "output_type": "stream",
     "text": [
      "Error:  0.018650474571272994\n"
     ]
    },
    {
     "data": {
      "text/plain": [
       "array([ 0.19629625, -0.07083759,  0.06190375,  0.03216112])"
      ]
     },
     "execution_count": 13,
     "metadata": {},
     "output_type": "execute_result"
    }
   ],
   "source": [
    "X=team_data[['3P', '3PA', '3P%', 'STL']]\n",
    "y=team_data['W%']\n",
    "scores = cross_val_score(Ridge(), X, y, cv=5, scoring='neg_mean_squared_error')\n",
    "mse_scores = abs(scores)\n",
    "mean_mse = np.mean(mse_scores)\n",
    "print (\"Error: \", mean_mse)"
   ]
  },
  {
   "cell_type": "markdown",
   "id": "a7dffdfb",
   "metadata": {},
   "source": [
    "2nd Option"
   ]
  },
  {
   "cell_type": "code",
   "execution_count": 19,
   "id": "eaa13a69",
   "metadata": {},
   "outputs": [
    {
     "name": "stdout",
     "output_type": "stream",
     "text": [
      "Error:  0.018773576398594356\n"
     ]
    }
   ],
   "source": [
    "X=team_data[['FG%', '2P%', 'DRB', 'AST']]\n",
    "y=team_data['W%']\n",
    "scores = cross_val_score(Ridge(), X, y, cv=5, scoring='neg_mean_squared_error')\n",
    "mse_scores = abs(scores)\n",
    "mean_mse = np.mean(mse_scores)\n",
    "print (\"Error: \", mean_mse)"
   ]
  },
  {
   "cell_type": "markdown",
   "id": "09953c29",
   "metadata": {},
   "source": [
    "3rd Option (Best Option)"
   ]
  },
  {
   "cell_type": "code",
   "execution_count": 17,
   "id": "eac56ec6",
   "metadata": {},
   "outputs": [
    {
     "name": "stdout",
     "output_type": "stream",
     "text": [
      "Error:  0.013736415637902085\n"
     ]
    },
    {
     "data": {
      "text/plain": [
       "array([ 0.05155371, -0.03587399,  0.00069034,  0.02610184])"
      ]
     },
     "execution_count": 17,
     "metadata": {},
     "output_type": "execute_result"
    }
   ],
   "source": [
    "X=team_data[['FG', 'FGA', 'FG%', 'DRB']]\n",
    "y=team_data['W%']\n",
    "scores = cross_val_score(Ridge(), X, y, cv=5, scoring='neg_mean_squared_error')\n",
    "mse_scores = abs(scores)\n",
    "mean_mse = np.mean(mse_scores)\n",
    "print (\"Error: \", mean_mse)\n",
    "reg=Ridge().fit(X,y)\n",
    "reg.coef_"
   ]
  },
  {
   "cell_type": "markdown",
   "id": "e56f2412",
   "metadata": {},
   "source": [
    "##### Testing on Solution"
   ]
  },
  {
   "cell_type": "markdown",
   "id": "858ca43c",
   "metadata": {},
   "source": [
    "Leave One Out Cross Validation"
   ]
  },
  {
   "cell_type": "code",
   "execution_count": 16,
   "id": "92d80ade",
   "metadata": {},
   "outputs": [
    {
     "data": {
      "text/plain": [
       "0.01358023120498836"
      ]
     },
     "execution_count": 16,
     "metadata": {},
     "output_type": "execute_result"
    }
   ],
   "source": [
    "X=team_data[['FG', 'FGA', 'FG%', 'DRB']]\n",
    "y=team_data['W%']\n",
    "reg=Ridge()\n",
    "loo = LeaveOneOut()\n",
    "predictions = []\n",
    "true_values = []\n",
    "mse_scores = cross_val_score(reg, X, y, scoring='neg_mean_squared_error', cv=loo)\n",
    "mean_mse = np.mean(abs(mse_scores))\n",
    "mean_mse"
   ]
  },
  {
   "cell_type": "markdown",
   "id": "77f1121c",
   "metadata": {},
   "source": [
    "Actual vs Predicted"
   ]
  },
  {
   "cell_type": "code",
   "execution_count": 17,
   "id": "eba551c5",
   "metadata": {},
   "outputs": [
    {
     "data": {
      "image/png": "[encoded data removed]",
      "text/plain": [
       "<Figure size 1000x600 with 1 Axes>"
      ]
     },
     "metadata": {},
     "output_type": "display_data"
    }
   ],
   "source": [
    "X=team_data[['FG', 'FGA', 'FG%', 'DRB']]\n",
    "y=team_data['W%']\n",
    "X_train, X_test, y_train, y_test = train_test_split(X, y, test_size=0.2)\n",
    "reg=Ridge()\n",
    "reg.fit(X_train,y_train)\n",
    "y_pred=reg.predict(X_test)\n",
    "plt.figure(figsize=(10, 6))\n",
    "plt.scatter(y_test, y_pred, color='blue')\n",
    "plt.plot([y_test.min(), y_test.max()], [y_test.min(), y_test.max()], linestyle='--', color='red')\n",
    "plt.xlabel('Actual W%')\n",
    "plt.ylabel('Predicted W%')\n",
    "plt.title('Actual vs Predicted W%')\n",
    "plt.show()"
   ]
  },
  {
   "cell_type": "markdown",
   "id": "33344492",
   "metadata": {},
   "source": [
    "### Question 2"
   ]
  },
  {
   "cell_type": "markdown",
   "id": "c392a77e",
   "metadata": {},
   "source": [
    "In researching this question, I have concluded that advanced stats are not better at predicting winning percentages. In comparing a regression model trained on advanced stats and a model trained on the most important basic stats from research question 1, the basic stats model performed better on both of my tests. In the first test, I used iterative testing by training a regression model 50 separate times using different train test splits and averaging out the error. In the second test, I used average cross-validation scores. Both tests yielded the same results that indicated that advanced stats are not better at predicting winning percentages. This surprised me because advanced stats take into account much more things than basic stats so I thought it would more accurately predict winning percentage. This could be due to the fact that advanced stats like true shooting percentage and effective field goal percentage give teams reprieve for bad shot selection. In judging how good a player shoots, this could be useful but in terms of predicting winning, it is not.\n",
    "\n",
    "With this information, even in the era of advanced stats, NBA analysts should place less emphasis on them. It is more important to focus on basic stats that increase scoring opportunities and limit opponent’s opportunities since basic stats have proved more indicative of winning percentage. \n"
   ]
  },
  {
   "cell_type": "markdown",
   "id": "7af28c2a",
   "metadata": {},
   "source": [
    "##### Iterative Testing Comparison"
   ]
  },
  {
   "cell_type": "markdown",
   "id": "c6829340",
   "metadata": {},
   "source": [
    "Basic Stats"
   ]
  },
  {
   "cell_type": "code",
   "execution_count": 18,
   "id": "ea0d4227",
   "metadata": {},
   "outputs": [
    {
     "name": "stdout",
     "output_type": "stream",
     "text": [
      "Average Error: 0.01371287050992452\n"
     ]
    }
   ],
   "source": [
    "X=team_data[['FG', 'FGA', 'FG%', 'DRB']]\n",
    "y=team_data['W%']\n",
    "error=0\n",
    "for i in range(50):\n",
    "    X_train, X_test, y_train, y_test = train_test_split(X, y, test_size=0.2)\n",
    "    reg= Ridge().fit(X_train,y_train)\n",
    "    error+=mean_squared_error(y_test, reg.predict(X_test))\n",
    "print(\"Average Error:\", error/50)"
   ]
  },
  {
   "cell_type": "markdown",
   "id": "612ffe43",
   "metadata": {},
   "source": [
    "Advanced Stats"
   ]
  },
  {
   "cell_type": "code",
   "execution_count": 19,
   "id": "135af094",
   "metadata": {},
   "outputs": [
    {
     "name": "stdout",
     "output_type": "stream",
     "text": [
      "Average Error: 0.016132308693030933\n"
     ]
    }
   ],
   "source": [
    "X=team_data[['TS%', 'Effective Possesion', 'EFG%', 'ASTOV']]\n",
    "y=team_data['W%']\n",
    "error=0\n",
    "for i in range(50):\n",
    "    X_train, X_test, y_train, y_test = train_test_split(X, y, test_size=0.2)\n",
    "    reg= Ridge().fit(X_train,y_train)\n",
    "    error+=mean_squared_error(y_test, reg.predict(X_test))\n",
    "print(\"Average Error:\", error/50)"
   ]
  },
  {
   "cell_type": "markdown",
   "id": "5ac329e5",
   "metadata": {},
   "source": [
    "##### Cross Validation Score"
   ]
  },
  {
   "cell_type": "markdown",
   "id": "797b72a4",
   "metadata": {},
   "source": [
    "Basic Stats"
   ]
  },
  {
   "cell_type": "code",
   "execution_count": 20,
   "id": "ba6fa02a",
   "metadata": {},
   "outputs": [
    {
     "name": "stdout",
     "output_type": "stream",
     "text": [
      "Error:  0.013736415637902085\n"
     ]
    }
   ],
   "source": [
    "X=team_data[['FG', 'FGA', 'FG%', 'DRB']]\n",
    "y=team_data['W%']\n",
    "scores = cross_val_score(Ridge(), X, y, cv=5, scoring='neg_mean_squared_error')\n",
    "mse_scores = abs(scores)\n",
    "mean_mse = np.mean(mse_scores)\n",
    "print (\"Error: \", mean_mse)"
   ]
  },
  {
   "cell_type": "markdown",
   "id": "ad808e1a",
   "metadata": {},
   "source": [
    "Advanced Stats"
   ]
  },
  {
   "cell_type": "code",
   "execution_count": 21,
   "id": "9c024fdd",
   "metadata": {},
   "outputs": [
    {
     "name": "stdout",
     "output_type": "stream",
     "text": [
      "Error:  0.016494708372696867\n"
     ]
    }
   ],
   "source": [
    "X=team_data[['TS%', 'Effective Possesion', 'EFG%', 'ASTOV']]\n",
    "y=team_data['W%']\n",
    "scores = cross_val_score(Ridge(), X, y, cv=5, scoring='neg_mean_squared_error')\n",
    "mse_scores = abs(scores)\n",
    "mean_mse = np.mean(mse_scores)\n",
    "print (\"Error: \", mean_mse)"
   ]
  },
  {
   "cell_type": "markdown",
   "id": "aee9d4fd",
   "metadata": {},
   "source": [
    "##### Graph Comparison"
   ]
  },
  {
   "cell_type": "markdown",
   "id": "9bb8e263",
   "metadata": {},
   "source": [
    "Basic Stats"
   ]
  },
  {
   "cell_type": "code",
   "execution_count": 22,
   "id": "5223a771",
   "metadata": {},
   "outputs": [
    {
     "data": {
      "image/png": "[encoded data removed]",
      "text/plain": [
       "<Figure size 1000x600 with 1 Axes>"
      ]
     },
     "metadata": {},
     "output_type": "display_data"
    }
   ],
   "source": [
    "X=team_data[['FG', 'FGA', 'FG%', 'DRB']]\n",
    "y=team_data['W%']\n",
    "X_train, X_test, y_train, y_test = train_test_split(X, y, test_size=0.2)\n",
    "reg=Ridge()\n",
    "reg.fit(X_train,y_train)\n",
    "y_pred=reg.predict(X_test)\n",
    "plt.figure(figsize=(10, 6))\n",
    "x=range(0,2)\n",
    "plt.scatter(y_test, y_pred, color='blue')\n",
    "plt.plot(x,x, linestyle='--', color='red')\n",
    "plt.xlabel('Actual W%')\n",
    "plt.ylabel('Predicted W%')\n",
    "plt.title('Actual vs Predicted W% for Basic Stats')\n",
    "plt.show()"
   ]
  },
  {
   "cell_type": "markdown",
   "id": "a845203c",
   "metadata": {},
   "source": [
    "Advanced Stats"
   ]
  },
  {
   "cell_type": "code",
   "execution_count": 23,
   "id": "5421254f",
   "metadata": {},
   "outputs": [
    {
     "data": {
      "image/png": "[encoded data removed]",
      "text/plain": [
       "<Figure size 1000x600 with 1 Axes>"
      ]
     },
     "metadata": {},
     "output_type": "display_data"
    }
   ],
   "source": [
    "X=team_data[['TS%', 'Effective Possesion', 'EFG%', 'ASTOV']]\n",
    "y=team_data['W%']\n",
    "X_train, X_test, y_train, y_test = train_test_split(X, y, test_size=0.2)\n",
    "reg=Ridge()\n",
    "reg.fit(X_train,y_train)\n",
    "y_pred=reg.predict(X_test)\n",
    "plt.figure(figsize=(10, 6))\n",
    "plt.scatter(y_test, y_pred, color='blue')\n",
    "x=range(0,2)\n",
    "plt.plot(x,x, linestyle='--', color='red')\n",
    "plt.xlabel('Actual W%')\n",
    "plt.ylabel('Predicted W%')\n",
    "plt.title('Actual vs Predicted W% for Advanced Stats')\n",
    "plt.show()"
   ]
  },
  {
   "cell_type": "markdown",
   "id": "a865619c",
   "metadata": {},
   "source": [
    "### Question 3"
   ]
  },
  {
   "cell_type": "markdown",
   "id": "88447948",
   "metadata": {},
   "source": [
    "My last conclusion is that age, height, and weight are not important factors in winning percentage. When training a model on a subset of statistics that included height, weight, and age, the weights placed on the three were relatively small. The model weighted the other statistics much higher. To further analyze this, I trained another regression model on height, age, and weight. In comparing the weights of each stat, age appeared to be the most important by far. However, since there was extremely low variation in each of these stats, it is hard to justify the importance of these measurements. It is better to focus on the playing statistics instead of the personnel stats."
   ]
  },
  {
   "cell_type": "code",
   "execution_count": 21,
   "id": "e69c00ef",
   "metadata": {},
   "outputs": [],
   "source": [
    "team_data[['Ft', 'In']] = team_data['Ht.'].str.split('-', expand=True)\n",
    "team_data['Ht In']=team_data['Ft'].astype(int)*12 + team_data['In'].astype(int)\n",
    "team_data=team_data.drop(['Ft','In'], axis=1)"
   ]
  },
  {
   "cell_type": "markdown",
   "id": "de971d3b",
   "metadata": {},
   "source": [
    "Weights with age, weight and height and error"
   ]
  },
  {
   "cell_type": "code",
   "execution_count": 25,
   "id": "55287dc0",
   "metadata": {},
   "outputs": [
    {
     "name": "stdout",
     "output_type": "stream",
     "text": [
      "Age:  0.03190952087635183 , Weight:  -0.0010684311172365442 , Height:  -0.0016216397672003935\n",
      "Error:  0.010628362003894214\n",
      "0.04284675033239086\n",
      "-0.0287845638148072\n",
      "-0.028946495311823556\n",
      "0.02514609813865173\n",
      "-0.0016216397672003935\n",
      "-0.0010684311172365442\n",
      "0.03190952087635183\n"
     ]
    }
   ],
   "source": [
    "X=team_data[['FG', 'FGA', 'FG%', 'DRB', 'Ht In', 'Wt.', 'Age']]\n",
    "y=team_data[['W%']]\n",
    "X_train, X_test, y_train, y_test = train_test_split(X, y, test_size=0.2)\n",
    "reg=Ridge(fit_intercept=False).fit(X_train,y_train)\n",
    "error=mean_squared_error(y_test,reg.predict(X_test))\n",
    "weights=reg.coef_[0]\n",
    "age=weights[-1]\n",
    "weight=weights[-2]\n",
    "height=weights[-3]\n",
    "print ('Age: ', age, ', Weight: ', weight, ', Height: ', height)\n",
    "print('Error: ',error)\n",
    "for i in reg.coef_[0]:\n",
    "    print (i)"
   ]
  },
  {
   "cell_type": "markdown",
   "id": "8a9f458b",
   "metadata": {},
   "source": [
    "Error without"
   ]
  },
  {
   "cell_type": "code",
   "execution_count": 26,
   "id": "c3fa2192",
   "metadata": {},
   "outputs": [
    {
     "name": "stdout",
     "output_type": "stream",
     "text": [
      "Error:  0.013004538698092594\n"
     ]
    }
   ],
   "source": [
    "X=team_data[['FG', 'FGA', 'FG%', 'DRB']]\n",
    "y=team_data[['W%']]\n",
    "X_train, X_test, y_train, y_test = train_test_split(X, y, test_size=0.2)\n",
    "reg=LinearRegression(fit_intercept=False).fit(X_train,y_train)\n",
    "error=mean_squared_error(y_test,reg.predict(X_test))\n",
    "print ('Error: ',error)"
   ]
  },
  {
   "cell_type": "markdown",
   "id": "85ec26ef",
   "metadata": {},
   "source": [
    "Which of age, weight and height are most important?"
   ]
  },
  {
   "cell_type": "code",
   "execution_count": 27,
   "id": "9d7ac317",
   "metadata": {},
   "outputs": [
    {
     "name": "stdout",
     "output_type": "stream",
     "text": [
      "Age:  0.046328206622447125 , Weight:  0.0001475193399528847 , Height:  -0.009802364358184386\n"
     ]
    }
   ],
   "source": [
    "X=team_data[['Ht In', 'Wt.', 'Age']]\n",
    "y=team_data[['W%']]\n",
    "X_train, X_test, y_train, y_test = train_test_split(X, y, test_size=0.2)\n",
    "reg=LinearRegression(fit_intercept=False).fit(X_train,y_train)\n",
    "error=mean_squared_error(y_test,reg.predict(X_test))\n",
    "weights=reg.coef_[0]\n",
    "age=weights[2]\n",
    "weight=weights[1]\n",
    "height=weights[0]\n",
    "print ('Age: ', age, ', Weight: ', weight, ', Height: ', height)"
   ]
  },
  {
   "cell_type": "markdown",
   "id": "161ed1c8",
   "metadata": {},
   "source": [
    "## Impacts and Limitations"
   ]
  },
  {
   "cell_type": "markdown",
   "id": "b8a50014",
   "metadata": {},
   "source": [
    "With the results that I concluded, coaches can adjust their strategy and NBA analysts can adjust their opinion on advanced statistics. In specific, coaches can adjust their game plans to fit the most important statistics I generated. From my results, coaches can gain some new perspective on what is really important when it comes to winning. As I said before, every coach has different views on what it takes to win, but my data gives an analytical baseline for strategy. In terms of advanced statistics, NBA analysts should not value them as heavily. Instead, advanced statistics should be valued equally to normal statistics as their impact on win percentage isn’t much different. \n",
    "\n",
    "Although NBA teams may benefit from my analysis, college basketball teams, high school basketball teams, and other organizations are left out. Each league is vastly different in terms of play style, so the conclusions I drew may not translate to every league. In addition, the time frame of the data set is very big as it is from 1970 to the present, but the NBA has changed tremendously in this time. The importance of certain statistics has most likely not stayed constant over the years. My analysis doesn’t take this into account because the data set would be very small if I grouped it by decades. Another limitation is the advanced statistics that were available. Since the website I scraped from didn’t have stats like offensive possessions, and rebounding percentages, I had to use more basic advanced statistics in my research. This definitely could’ve impacted my results and conclusions. Overall, although there is something to learn from the results I drew, it is important to take it with a grain of salt because the data isn’t perfect.\n"
   ]
  },
  {
   "cell_type": "markdown",
   "id": "c945c713",
   "metadata": {},
   "source": [
    "## Challenge Goals"
   ]
  },
  {
   "cell_type": "markdown",
   "id": "5394e462",
   "metadata": {},
   "source": [
    "##### New Library: \n",
    "I used BeautifulSoup to do the web scraping necessary to formulate my data set. The data was not in a csv so I used web scraping to create a data set. I had to scrape from a different website for each of the 30 teams and then concatenated the data frames to create the data set I used.\n",
    "\n",
    "##### Result Validity: \n",
    "I extensively tested my different machine-learning models to verify my results. For research question 1, instead of using one method to find the most important statistics, I used three different strategies, RFE, correlation, and SFS. After I got the different combinations of statistics, I used cross-validation scores to determine which subset of stats was the most accurate. I also used another train test split on the model with the same parameters to confirm that it was the best pick. To further validate my result, I used a leave one out cross validation. Since the data set is relatively small for machine learning (about 1,200 entries), leave one out cross validation was a good way to ensure that all data is utilized. For research question 2, I used two testing methods to confirm my result. I used iterative testing first and then cross-validation. I chose iterative testing because it evaluated the models robustness. It is also helpful in seeing the models effectiveness in generalizing the data. In other words, it tests if the model is picking up consistent patterns within the data. This helped me gain confidence in the results I generated. Finally, the most basic result validation technique was graphing. I plotted actual vs expected to visualize the error in my models. Overall, to test my results, I used leave one out analysis, iterative testing, cross validation scores, and train test splits.\n"
   ]
  },
  {
   "cell_type": "markdown",
   "id": "18a087a8",
   "metadata": {},
   "source": [
    "## Plan Evaluation"
   ]
  },
  {
   "cell_type": "markdown",
   "id": "43103ea8",
   "metadata": {},
   "source": [
    "My work plan was very accurate. Since I was working alone, it was easy to split my work into segments and work progressively till the project was done. I estimated web scraping to be a week, analysis to be another week, and my final report to be the last week. This timeline was very accurate except for me taking a bit of extra time with the web scraping since I was unfamiliar with beautiful soup. Overall, working alone made me work efficiently and follow the timeline because I knew the amount of work I needed to complete.\n"
   ]
  },
  {
   "cell_type": "markdown",
   "id": "632a05fa",
   "metadata": {},
   "source": [
    "## Testing"
   ]
  },
  {
   "cell_type": "markdown",
   "id": "fd67dbe3",
   "metadata": {},
   "source": [
    "Since my code was mainly dependent on machine learning models, it was difficult to test. This is because every time I ran the code, a different error and output would be produced. This made it somewhat ineffective to use assert tests. This forced me to take other strategies to ensure the models were working as intended. My main strategy was to use my own understanding of the data and models to determine if the results were logical. I plugged logical numbers into the model and determined if the output was logical. Since it was predicting win percentage, I knew the output needed to be between around 0.25 at its lowest and 0.8 at its highest. You can tell my code computes as intended because the results are logical with the data set and have consistent results for machine learning models. Another strategy I used was using different testing features in Sci-Kit. I used train-test splits, cross validation scores, and leave one out cross validation to get error values for my models. If the errors were relatively similar across all tests, I knew my models were working correctly. Lastly, I plotted test splits against predictions beside the line y=x visualize the accuracy of predictions. One can tell the models are accurate because the data lies close to the target line."
   ]
  },
  {
   "cell_type": "markdown",
   "id": "ce3170a6",
   "metadata": {},
   "source": [
    "## Collaboration"
   ]
  },
  {
   "cell_type": "markdown",
   "id": "6f9e5bd0",
   "metadata": {},
   "source": [
    "Although I didn’t consult any people for my project, I did rely on the Internet a lot. I used YouTube tutorials to learn how to web scrape. This was extremely helpful and vital to the success of my project. I also used package documentation very frequently, especially within Sci-Kit. Since I experimented a lot with feature selection and different regressors, it was important for me to understand all their different features and how they worked. Lastly, I used generative AI to generate ideas on how to answer my research questions. For instance, on question 1, I prompted ChatGPT to give me feature selection strategies. I didn’t have AI write any code for me.\n"
   ]
  }
 ],
 "metadata": {
  "kernelspec": {
   "display_name": "Python 3 (ipykernel)",
   "language": "python",
   "name": "python3"
  },
  "language_info": {
   "codemirror_mode": {
    "name": "ipython",
    "version": 3
   },
   "file_extension": ".py",
   "mimetype": "text/x-python",
   "name": "python",
   "nbconvert_exporter": "python",
   "pygments_lexer": "ipython3",
   "version": "3.9.13"
  }
 },
 "nbformat": 4,
 "nbformat_minor": 5
}
